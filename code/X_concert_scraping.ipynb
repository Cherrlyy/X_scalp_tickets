{
 "cells": [
  {
   "cell_type": "code",
   "execution_count": null,
   "metadata": {},
   "outputs": [],
   "source": [
    "import pandas as pd\n",
    "import numpy as np"
   ]
  },
  {
   "cell_type": "code",
   "execution_count": null,
   "metadata": {},
   "outputs": [],
   "source": [
    "from selenium import webdriver\n",
    "from selenium.webdriver.chrome.service import Service\n",
    "from webdriver_manager.chrome import ChromeDriverManager\n",
    "from selenium.webdriver.common.by import By\n",
    "\n",
    "\n",
    "service = Service(excutable_path=ChromeDriverManager().install())\n",
    "driver = webdriver.Chrome(service=service)\n",
    "url = 'https://x.com/explore'\n",
    "driver.implicitly_wait(5)\n",
    "\n",
    "driver.get(url)\n",
    "print(driver.find_element(By.XPATH, '/html/body/div'))\n",
    "google_iframe = driver.switch_to.frame(driver.find_element(By.XPATH, \n",
    "'/html/body/div/div/div/div/main/div/div/div/div[2]/div[2]/div/div[2]/div/iframe'))\n",
    "print(google_iframe.get_attribute('name'))\n"
   ]
  },
  {
   "cell_type": "code",
   "execution_count": 21,
   "metadata": {},
   "outputs": [],
   "source": [
    "from selenium import webdriver\n",
    "from selenium.webdriver.chrome.service import Service\n",
    "from webdriver_manager.chrome import ChromeDriverManager\n",
    "from selenium.webdriver.common.by import By\n",
    "from selenium.webdriver.common.keys import Keys\n",
    "from selenium.webdriver.chrome.options import Options\n",
    "import urllib.request\n",
    "from seleniumbase import Driver\n",
    "\n",
    "import os\n",
    "from dotenv import load_dotenv"
   ]
  },
  {
   "cell_type": "code",
   "execution_count": 2,
   "metadata": {},
   "outputs": [],
   "source": [
    "keywords = [\"NCT WISH: SCHOOL of WISH [청주]\"]"
   ]
  },
  {
   "cell_type": "code",
   "execution_count": 3,
   "metadata": {},
   "outputs": [],
   "source": [
    "load_dotenv('GOOGLE_login.env')\n",
    "\n",
    "USER_ID = os.environ.get('GOOGLLE_USER_ID')\n",
    "USER_PASSWORD = os.environ.get('GOOGLE_USER_PASSWORD')"
   ]
  },
  {
   "cell_type": "code",
   "execution_count": 4,
   "metadata": {},
   "outputs": [
    {
     "name": "stdout",
     "output_type": "stream",
     "text": [
      "bhs303373@gmail.com\n"
     ]
    }
   ],
   "source": [
    "print(USER_ID)"
   ]
  },
  {
   "cell_type": "code",
   "execution_count": 22,
   "metadata": {
    "scrolled": false
   },
   "outputs": [
    {
     "name": "stdout",
     "output_type": "stream",
     "text": [
      "['352ED796594E78C3074C53C2FB4A4988', '7E59AF875E3075FD0B12A353824D98DD']\n",
      "['352ED796594E78C3074C53C2FB4A4988', '7E59AF875E3075FD0B12A353824D98DD']\n",
      "<seleniumbase.undetected.webelement.WebElement (session=\"56461a06a7a7df66ae5e6fda70606654\", element=\"f.352ED796594E78C3074C53C2FB4A4988.d.46B3FAE83A5117CF3D6A5BAB83F3A10A.e.1128\")>\n",
      "<seleniumbase.undetected.webelement.WebElement (session=\"56461a06a7a7df66ae5e6fda70606654\", element=\"f.352ED796594E78C3074C53C2FB4A4988.d.46B3FAE83A5117CF3D6A5BAB83F3A10A.e.1140\")>\n"
     ]
    }
   ],
   "source": [
    "# 로그인 세션\n",
    "options = Options()\n",
    "service = Service(excutable_path=ChromeDriverManager().install())\n",
    "driver = Driver(browser='chrome', uc=True)\n",
    "\n",
    "driver.implicitly_wait(10)\n",
    "driver.maximize_window()\n",
    "\n",
    "driver.get('https://x.com/home')\n",
    "google_login = driver.find_element(By.XPATH, '/html/body/div/div/div/div[2]/main/div/div/div[1]/div[1]/div/div[3]/div[1]/div/iframe')\n",
    "google_login.click()\n",
    "print(driver.window_handles)\n",
    "\n",
    "driver.implicitly_wait(5)\n",
    "driver.switch_to.window(driver.window_handles[-1]) \n",
    "id = driver.find_element(By.XPATH, '/html/body/div[1]/div[1]/div[2]/c-wiz/div/div[2]/div/div/div[1]/form/span/section/div/div/div[1]/div/div[1]/div/div[1]/input')\n",
    "id.send_keys(USER_ID)\n",
    "id.send_keys(Keys.RETURN)\n",
    "\n",
    "\n",
    "pw = driver.find_element(By.XPATH, '/html/body/div[1]/div[1]/div[2]/c-wiz/div/div[2]/div/div/div[1]/form/span/section[2]/div/div/div[1]/div[1]/div/div/div/div/div[1]/div/div[1]/input')\n",
    "pw.send_keys(USER_PASSWORD)\n",
    "pw.send_keys(Keys.RETURN)\n",
    "\n",
    "# 키워드 순회\n",
    "print(driver.window_handles)\n",
    "\n",
    "driver.implicitly_wait(10)\n",
    "\n",
    "while(len(driver.window_handles) != 1):\n",
    "    continue\n",
    "\n",
    "driver.switch_to.window(driver.window_handles[-1]) \n",
    "test = driver.find_element(By.XPATH, '/html/body/div[1]/div/div/div[2]/main/div/div/div/div[2]/div/div[2]/div/div/div/div[4]')\n",
    "print(test)\n",
    "\n",
    "search = driver.find_element(By.XPATH, '/html/body/div[1]/div/div/div[2]/main/div/div/div/div[2]/div/div[2]/div/div/div/div[1]/div/div/div/form/div[1]/div/div/div/div/div[2]/div/input')\n",
    "print(search)\n",
    "\n",
    "search.click()\n",
    "search.send_keys(keywords[0])\n",
    "search.send_keys(Keys.RETURN)\n"
   ]
  },
  {
   "cell_type": "code",
   "execution_count": null,
   "metadata": {
    "scrolled": false
   },
   "outputs": [],
   "source": [
    "# 로그인 세션\n",
    "service = Service(excutable_path=ChromeDriverManager().install())\n",
    "driver = webdriver.Chrome(service=service)\n",
    "\n",
    "driver.implicitly_wait(10)\n",
    "driver.maximize_window()\n",
    "\n",
    "driver.get('https://x.com/home')\n",
    "google_login = driver.find_element(By.XPATH, '/html/body/div/div/div/div[2]/main/div/div/div[1]/div[1]/div/div[3]/div[1]/div/iframe')\n",
    "google_login.click()\n",
    "\n",
    "driver.implicitly_wait(5)\n",
    "driver.switch_to.window(driver.window_handles[-1]) \n",
    "id = driver.find_element(By.XPATH, '/html/body/div[1]/div[1]/div[2]/c-wiz/div/div[2]/div/div/div[1]/form/span/section/div/div/div[1]/div/div[1]/div/div[1]/input')\n",
    "id.send_keys(USER_ID)\n",
    "id.send_keys(Keys.RETURN)\n",
    "\n",
    "\n",
    "\n",
    "# id.click()\n",
    "# id.send_keys()\n",
    "# id.send_keys(Keys.RETURN)\n",
    "\n",
    "# google_login = driver.find_element(By.XPATH, '/html/body/div/div/div/div[2]/main/div/div/div[1]/div/div/div[3]/div[1]/div/iframe').get_attribute('src')\n",
    "# print(google_login)\n",
    "# # driver_to.frame(google_iframe)\n",
    "# url = google_login.replace('https', 'http')\n",
    "# urllib.request.urlopen(url).click()\n",
    "# opener = urllib.request.build_opener()\n",
    "# opener.addheaders = [('User-Agent', 'Mozilla/5.0')]\n",
    "# urllib.request.install_opener(opener)\n",
    "\n",
    "\n",
    "\n",
    "\n",
    "\n",
    "# google_login.execute_script('google_login.click();', driver)"
   ]
  },
  {
   "cell_type": "code",
   "execution_count": null,
   "metadata": {},
   "outputs": [],
   "source": [
    "print(API_KEY)"
   ]
  },
  {
   "cell_type": "code",
   "execution_count": null,
   "metadata": {},
   "outputs": [],
   "source": []
  }
 ],
 "metadata": {
  "kernelspec": {
   "display_name": "Python 3",
   "language": "python",
   "name": "python3"
  },
  "language_info": {
   "codemirror_mode": {
    "name": "ipython",
    "version": 3
   },
   "file_extension": ".py",
   "mimetype": "text/x-python",
   "name": "python",
   "nbconvert_exporter": "python",
   "pygments_lexer": "ipython3",
   "version": "3.7.6"
  }
 },
 "nbformat": 4,
 "nbformat_minor": 4
}
